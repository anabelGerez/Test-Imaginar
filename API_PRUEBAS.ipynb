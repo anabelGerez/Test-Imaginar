{
  "nbformat": 4,
  "nbformat_minor": 0,
  "metadata": {
    "colab": {
      "provenance": [],
      "authorship_tag": "ABX9TyN0uTpiFZXWeBUoVSYpBdGV",
      "include_colab_link": true
    },
    "kernelspec": {
      "name": "python3",
      "display_name": "Python 3"
    },
    "language_info": {
      "name": "python"
    }
  },
  "cells": [
    {
      "cell_type": "markdown",
      "metadata": {
        "id": "view-in-github",
        "colab_type": "text"
      },
      "source": [
        "<a href=\"https://colab.research.google.com/github/anabelGerez/Test-Imaginar/blob/main/API_PRUEBAS.ipynb\" target=\"_parent\"><img src=\"https://colab.research.google.com/assets/colab-badge.svg\" alt=\"Open In Colab\"/></a>"
      ]
    },
    {
      "cell_type": "code",
      "execution_count": 18,
      "metadata": {
        "colab": {
          "base_uri": "https://localhost:8080/"
        },
        "id": "wa3tymnb8W9O",
        "outputId": "2aa9e31c-95d9-4712-c731-7c43e3ce2722"
      },
      "outputs": [
        {
          "output_type": "stream",
          "name": "stdout",
          "text": [
            "6:23:16 AM\n"
          ]
        }
      ],
      "source": [
        "import requests\n",
        "latitud=35.8\n",
        "longitud=-1.5\n",
        "fecha='2004-03-09'\n",
        "url=requests.get(f'https://api.sunrise-sunset.org/json?lat={latitud}&lng={longitud}&date={fecha}')\n",
        "datos_url=url.json()\n",
        "datos_url.keys()\n",
        "datos_url['results']\n",
        "amanecer=datos_url['results']['sunrise']\n",
        "print(amanecer)\n",
        "#API PARA VER AMANECER Y ATARDECER EN UNA FECHA Y UBICACION ESPECIFICA"
      ]
    },
    {
      "cell_type": "code",
      "source": [],
      "metadata": {
        "id": "IeTEfq7-qB08"
      },
      "execution_count": null,
      "outputs": []
    },
    {
      "cell_type": "markdown",
      "source": [],
      "metadata": {
        "id": "zNQTErsHnted"
      }
    }
  ]
}